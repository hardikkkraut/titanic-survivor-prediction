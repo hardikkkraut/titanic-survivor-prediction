{
 "cells": [
  {
   "cell_type": "markdown",
   "id": "9b7da2b3",
   "metadata": {},
   "source": [
    "# Titanic Survival Prediction\n",
    "This notebook performs data preprocessing, model training, and evaluation on the Titanic dataset."
   ]
  },
  {
   "cell_type": "code",
   "execution_count": 1,
   "id": "a54eda7b",
   "metadata": {},
   "outputs": [],
   "source": [
    "import pandas as pd\n",
    "from sklearn.model_selection import train_test_split\n",
    "from sklearn.ensemble import RandomForestClassifier\n",
    "from sklearn.metrics import classification_report, accuracy_score\n",
    "from sklearn.preprocessing import LabelEncoder\n",
    "import joblib\n"
   ]
  },
  {
   "cell_type": "code",
   "execution_count": 2,
   "id": "504bc4a5",
   "metadata": {},
   "outputs": [],
   "source": [
    "train_df = pd.read_csv('C:\\\\Users\\\\Hardik\\\\Desktop\\\\titanic-survivor-prediction\\\\train.csv')\n",
    "test_df = pd.read_csv('C:\\\\Users\\\\Hardik\\\\Desktop\\\\titanic-survivor-prediction\\\\test.csv')\n"
   ]
  },
  {
   "cell_type": "code",
   "execution_count": 3,
   "id": "4e22fe21",
   "metadata": {},
   "outputs": [
    {
     "name": "stderr",
     "output_type": "stream",
     "text": [
      "C:\\Users\\Hardik\\AppData\\Local\\Temp\\ipykernel_104080\\1576219402.py:2: FutureWarning: A value is trying to be set on a copy of a DataFrame or Series through chained assignment using an inplace method.\n",
      "The behavior will change in pandas 3.0. This inplace method will never work because the intermediate object on which we are setting values always behaves as a copy.\n",
      "\n",
      "For example, when doing 'df[col].method(value, inplace=True)', try using 'df.method({col: value}, inplace=True)' or df[col] = df[col].method(value) instead, to perform the operation inplace on the original object.\n",
      "\n",
      "\n",
      "  full_df['Age'].fillna(full_df['Age'].median(), inplace=True)\n",
      "C:\\Users\\Hardik\\AppData\\Local\\Temp\\ipykernel_104080\\1576219402.py:3: FutureWarning: A value is trying to be set on a copy of a DataFrame or Series through chained assignment using an inplace method.\n",
      "The behavior will change in pandas 3.0. This inplace method will never work because the intermediate object on which we are setting values always behaves as a copy.\n",
      "\n",
      "For example, when doing 'df[col].method(value, inplace=True)', try using 'df.method({col: value}, inplace=True)' or df[col] = df[col].method(value) instead, to perform the operation inplace on the original object.\n",
      "\n",
      "\n",
      "  full_df['Fare'].fillna(full_df['Fare'].median(), inplace=True)\n",
      "C:\\Users\\Hardik\\AppData\\Local\\Temp\\ipykernel_104080\\1576219402.py:4: FutureWarning: A value is trying to be set on a copy of a DataFrame or Series through chained assignment using an inplace method.\n",
      "The behavior will change in pandas 3.0. This inplace method will never work because the intermediate object on which we are setting values always behaves as a copy.\n",
      "\n",
      "For example, when doing 'df[col].method(value, inplace=True)', try using 'df.method({col: value}, inplace=True)' or df[col] = df[col].method(value) instead, to perform the operation inplace on the original object.\n",
      "\n",
      "\n",
      "  full_df['Embarked'].fillna(full_df['Embarked'].mode()[0], inplace=True)\n"
     ]
    }
   ],
   "source": [
    "full_df = pd.concat([train_df, test_df], sort=False)\n",
    "full_df['Age'].fillna(full_df['Age'].median(), inplace=True)\n",
    "full_df['Fare'].fillna(full_df['Fare'].median(), inplace=True)\n",
    "full_df['Embarked'].fillna(full_df['Embarked'].mode()[0], inplace=True)\n",
    "full_df.drop(['Name', 'Ticket', 'Cabin'], axis=1, inplace=True)\n",
    "\n",
    "le = LabelEncoder()\n",
    "full_df['Sex'] = le.fit_transform(full_df['Sex'])\n",
    "full_df['Embarked'] = le.fit_transform(full_df['Embarked'])\n",
    "\n",
    "train_clean = full_df[:len(train_df)]\n",
    "test_clean = full_df[len(train_df):]\n"
   ]
  },
  {
   "cell_type": "code",
   "execution_count": 4,
   "id": "8640fefd",
   "metadata": {},
   "outputs": [
    {
     "name": "stdout",
     "output_type": "stream",
     "text": [
      "Accuracy: 0.8212290502793296\n",
      "              precision    recall  f1-score   support\n",
      "\n",
      "         0.0       0.83      0.88      0.85       105\n",
      "         1.0       0.81      0.74      0.77        74\n",
      "\n",
      "    accuracy                           0.82       179\n",
      "   macro avg       0.82      0.81      0.81       179\n",
      "weighted avg       0.82      0.82      0.82       179\n",
      "\n"
     ]
    }
   ],
   "source": [
    "X = train_clean.drop(['Survived', 'PassengerId'], axis=1)\n",
    "y = train_clean['Survived']\n",
    "X_train, X_val, y_train, y_val = train_test_split(X, y, test_size=0.2, random_state=42)\n",
    "\n",
    "model = RandomForestClassifier(n_estimators=100, random_state=42)\n",
    "model.fit(X_train, y_train)\n",
    "\n",
    "y_pred = model.predict(X_val)\n",
    "print(\"Accuracy:\", accuracy_score(y_val, y_pred))\n",
    "print(classification_report(y_val, y_pred))\n"
   ]
  },
  {
   "cell_type": "code",
   "execution_count": 5,
   "id": "49dd0ca9",
   "metadata": {},
   "outputs": [
    {
     "name": "stdout",
     "output_type": "stream",
     "text": [
      "Model saved as model.pkl\n"
     ]
    }
   ],
   "source": [
    "joblib.dump(model, 'model.pkl')\n",
    "print(\"Model saved as model.pkl\")\n"
   ]
  },
  {
   "cell_type": "code",
   "execution_count": null,
   "id": "86c35105",
   "metadata": {},
   "outputs": [],
   "source": []
  },
  {
   "cell_type": "code",
   "execution_count": 6,
   "id": "4cf3e3ff",
   "metadata": {},
   "outputs": [
    {
     "name": "stderr",
     "output_type": "stream",
     "text": [
      "C:\\Users\\Hardik\\AppData\\Local\\Temp\\ipykernel_104080\\733231315.py:20: FutureWarning: A value is trying to be set on a copy of a DataFrame or Series through chained assignment using an inplace method.\n",
      "The behavior will change in pandas 3.0. This inplace method will never work because the intermediate object on which we are setting values always behaves as a copy.\n",
      "\n",
      "For example, when doing 'df[col].method(value, inplace=True)', try using 'df.method({col: value}, inplace=True)' or df[col] = df[col].method(value) instead, to perform the operation inplace on the original object.\n",
      "\n",
      "\n",
      "  train_df['Embarked'].fillna('S', inplace=True)\n",
      "C:\\Users\\Hardik\\AppData\\Local\\Temp\\ipykernel_104080\\733231315.py:22: FutureWarning: A value is trying to be set on a copy of a DataFrame or Series through chained assignment using an inplace method.\n",
      "The behavior will change in pandas 3.0. This inplace method will never work because the intermediate object on which we are setting values always behaves as a copy.\n",
      "\n",
      "For example, when doing 'df[col].method(value, inplace=True)', try using 'df.method({col: value}, inplace=True)' or df[col] = df[col].method(value) instead, to perform the operation inplace on the original object.\n",
      "\n",
      "\n",
      "  train_df['Age'].fillna(train_df['Age'].median(), inplace=True)\n",
      "C:\\Users\\Hardik\\AppData\\Local\\Temp\\ipykernel_104080\\733231315.py:23: FutureWarning: A value is trying to be set on a copy of a DataFrame or Series through chained assignment using an inplace method.\n",
      "The behavior will change in pandas 3.0. This inplace method will never work because the intermediate object on which we are setting values always behaves as a copy.\n",
      "\n",
      "For example, when doing 'df[col].method(value, inplace=True)', try using 'df.method({col: value}, inplace=True)' or df[col] = df[col].method(value) instead, to perform the operation inplace on the original object.\n",
      "\n",
      "\n",
      "  train_df['Fare'].fillna(train_df['Fare'].median(), inplace=True)\n",
      "C:\\Users\\Hardik\\AppData\\Local\\Temp\\ipykernel_104080\\733231315.py:35: FutureWarning: A value is trying to be set on a copy of a DataFrame or Series through chained assignment using an inplace method.\n",
      "The behavior will change in pandas 3.0. This inplace method will never work because the intermediate object on which we are setting values always behaves as a copy.\n",
      "\n",
      "For example, when doing 'df[col].method(value, inplace=True)', try using 'df.method({col: value}, inplace=True)' or df[col] = df[col].method(value) instead, to perform the operation inplace on the original object.\n",
      "\n",
      "\n",
      "  test_df['Embarked'].fillna('S', inplace=True)\n",
      "C:\\Users\\Hardik\\AppData\\Local\\Temp\\ipykernel_104080\\733231315.py:37: FutureWarning: A value is trying to be set on a copy of a DataFrame or Series through chained assignment using an inplace method.\n",
      "The behavior will change in pandas 3.0. This inplace method will never work because the intermediate object on which we are setting values always behaves as a copy.\n",
      "\n",
      "For example, when doing 'df[col].method(value, inplace=True)', try using 'df.method({col: value}, inplace=True)' or df[col] = df[col].method(value) instead, to perform the operation inplace on the original object.\n",
      "\n",
      "\n",
      "  test_df['Age'].fillna(train_df['Age'].median(), inplace=True)\n",
      "C:\\Users\\Hardik\\AppData\\Local\\Temp\\ipykernel_104080\\733231315.py:38: FutureWarning: A value is trying to be set on a copy of a DataFrame or Series through chained assignment using an inplace method.\n",
      "The behavior will change in pandas 3.0. This inplace method will never work because the intermediate object on which we are setting values always behaves as a copy.\n",
      "\n",
      "For example, when doing 'df[col].method(value, inplace=True)', try using 'df.method({col: value}, inplace=True)' or df[col] = df[col].method(value) instead, to perform the operation inplace on the original object.\n",
      "\n",
      "\n",
      "  test_df['Fare'].fillna(train_df['Fare'].median(), inplace=True)\n"
     ]
    },
    {
     "name": "stdout",
     "output_type": "stream",
     "text": [
      "✅ Batch predictions saved to submission.csv\n",
      "✅ Visualizations saved in 'visualizations' folder\n"
     ]
    }
   ],
   "source": [
    "\n",
    "from pathlib import Path\n",
    "import pandas as pd\n",
    "import joblib\n",
    "import matplotlib.pyplot as plt\n",
    "from sklearn.metrics import confusion_matrix, ConfusionMatrixDisplay, roc_curve, auc\n",
    "from sklearn.preprocessing import LabelEncoder\n",
    "from sklearn.model_selection import train_test_split\n",
    "\n",
    "# Paths\n",
    "train_path = \"train.csv\"\n",
    "test_path = \"test.csv\"\n",
    "output_dir = Path(\"visualizations\")\n",
    "output_dir.mkdir(parents=True, exist_ok=True)\n",
    "\n",
    "# Load data\n",
    "train_df = pd.read_csv(train_path)\n",
    "\n",
    "# Preprocess training data\n",
    "train_df['Sex'] = train_df['Sex'].map({'male': 1, 'female': 0})\n",
    "train_df['Embarked'].fillna('S', inplace=True)\n",
    "train_df['Embarked'] = LabelEncoder().fit_transform(train_df['Embarked'])\n",
    "train_df['Age'].fillna(train_df['Age'].median(), inplace=True)\n",
    "train_df['Fare'].fillna(train_df['Fare'].median(), inplace=True)\n",
    "\n",
    "features = ['Pclass', 'Sex', 'Age', 'SibSp', 'Parch', 'Fare', 'Embarked']\n",
    "X = train_df[features]\n",
    "y = train_df['Survived']\n",
    "\n",
    "# Load trained model\n",
    "rf = joblib.load(\"model.pkl\")\n",
    "\n",
    "# ---- Batch prediction ----\n",
    "test_df = pd.read_csv(test_path)\n",
    "test_df['Sex'] = test_df['Sex'].map({'male': 1, 'female': 0})\n",
    "test_df['Embarked'].fillna('S', inplace=True)\n",
    "test_df['Embarked'] = LabelEncoder().fit_transform(test_df['Embarked'])\n",
    "test_df['Age'].fillna(train_df['Age'].median(), inplace=True)\n",
    "test_df['Fare'].fillna(train_df['Fare'].median(), inplace=True)\n",
    "\n",
    "X_test = test_df[features]\n",
    "batch_predictions = rf.predict(X_test)\n",
    "\n",
    "# Save submission file\n",
    "submission = pd.DataFrame({\n",
    "    \"PassengerId\": test_df[\"PassengerId\"],\n",
    "    \"Survived\": batch_predictions\n",
    "})\n",
    "submission.to_csv(\"submission.csv\", index=False)\n",
    "print(\"✅ Batch predictions saved to submission.csv\")\n",
    "\n",
    "# ---- Confusion Matrix ----\n",
    "X_train, X_val, y_train, y_val = train_test_split(X, y, test_size=0.2, random_state=42)\n",
    "y_pred_val = rf.predict(X_val)\n",
    "cm = confusion_matrix(y_val, y_pred_val)\n",
    "disp = ConfusionMatrixDisplay(confusion_matrix=cm)\n",
    "disp.plot()\n",
    "plt.title(\"Confusion Matrix (Random Forest)\")\n",
    "plt.savefig(output_dir / \"confusion_matrix.png\")\n",
    "plt.close()\n",
    "\n",
    "# ---- ROC Curve ----\n",
    "y_proba = rf.predict_proba(X_val)[:, 1]\n",
    "fpr, tpr, _ = roc_curve(y_val, y_proba)\n",
    "roc_auc = auc(fpr, tpr)\n",
    "\n",
    "plt.plot(fpr, tpr, label=f\"Random Forest (AUC = {roc_auc:.2f})\")\n",
    "plt.plot([0, 1], [0, 1], 'k--')\n",
    "plt.title(\"ROC Curve\")\n",
    "plt.xlabel(\"False Positive Rate\")\n",
    "plt.ylabel(\"True Positive Rate\")\n",
    "plt.legend()\n",
    "plt.savefig(output_dir / \"roc_curve.png\")\n",
    "plt.close()\n",
    "\n",
    "# ---- Survival Count ----\n",
    "train_df['Survived'].value_counts().plot(kind='bar')\n",
    "plt.title(\"Survival Count\")\n",
    "plt.xlabel(\"Survived\")\n",
    "plt.ylabel(\"Count\")\n",
    "plt.savefig(output_dir / \"survival_count.png\")\n",
    "plt.close()\n",
    "\n",
    "# ---- Age Distribution ----\n",
    "train_df['Age'].hist(bins=20)\n",
    "plt.title(\"Age Distribution\")\n",
    "plt.xlabel(\"Age\")\n",
    "plt.ylabel(\"Count\")\n",
    "plt.savefig(output_dir / \"age_distribution.png\")\n",
    "plt.close()\n",
    "\n",
    "print(\"✅ Visualizations saved in 'visualizations' folder\")\n"
   ]
  }
 ],
 "metadata": {
  "kernelspec": {
   "display_name": "base",
   "language": "python",
   "name": "python3"
  },
  "language_info": {
   "codemirror_mode": {
    "name": "ipython",
    "version": 3
   },
   "file_extension": ".py",
   "mimetype": "text/x-python",
   "name": "python",
   "nbconvert_exporter": "python",
   "pygments_lexer": "ipython3",
   "version": "3.13.5"
  }
 },
 "nbformat": 4,
 "nbformat_minor": 5
}
