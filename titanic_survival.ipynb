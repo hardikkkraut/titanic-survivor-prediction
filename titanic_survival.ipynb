{
 "cells": [
  {
   "cell_type": "markdown",
   "id": "9b7da2b3",
   "metadata": {},
   "source": [
    "# Titanic Survival Prediction\n",
    "This notebook performs data preprocessing, model training, and evaluation on the Titanic dataset."
   ]
  },
  {
   "cell_type": "code",
   "execution_count": null,
   "id": "a54eda7b",
   "metadata": {},
   "outputs": [],
   "source": [
    "import pandas as pd\n",
    "from sklearn.model_selection import train_test_split\n",
    "from sklearn.ensemble import RandomForestClassifier\n",
    "from sklearn.metrics import classification_report, accuracy_score\n",
    "from sklearn.preprocessing import LabelEncoder\n",
    "import joblib\n"
   ]
  },
  {
   "cell_type": "code",
   "execution_count": null,
   "id": "504bc4a5",
   "metadata": {},
   "outputs": [],
   "source": [
    "train_df = pd.read_csv('C:\\\\Users\\\\Hardik\\\\Desktop\\\\titanic-survivor-prediction\\\\train.csv')\n",
    "test_df = pd.read_csv('C:\\\\Users\\\\Hardik\\\\Desktop\\\\titanic-survivor-prediction\\\\test.csv')\n"
   ]
  },
  {
   "cell_type": "code",
   "execution_count": null,
   "id": "4e22fe21",
   "metadata": {},
   "outputs": [],
   "source": [
    "full_df = pd.concat([train_df, test_df], sort=False)\n",
    "full_df['Age'].fillna(full_df['Age'].median(), inplace=True)\n",
    "full_df['Fare'].fillna(full_df['Fare'].median(), inplace=True)\n",
    "full_df['Embarked'].fillna(full_df['Embarked'].mode()[0], inplace=True)\n",
    "full_df.drop(['Name', 'Ticket', 'Cabin'], axis=1, inplace=True)\n",
    "\n",
    "le = LabelEncoder()\n",
    "full_df['Sex'] = le.fit_transform(full_df['Sex'])\n",
    "full_df['Embarked'] = le.fit_transform(full_df['Embarked'])\n",
    "\n",
    "train_clean = full_df[:len(train_df)]\n",
    "test_clean = full_df[len(train_df):]\n"
   ]
  },
  {
   "cell_type": "code",
   "execution_count": null,
   "id": "8640fefd",
   "metadata": {},
   "outputs": [],
   "source": [
    "X = train_clean.drop(['Survived', 'PassengerId'], axis=1)\n",
    "y = train_clean['Survived']\n",
    "X_train, X_val, y_train, y_val = train_test_split(X, y, test_size=0.2, random_state=42)\n",
    "\n",
    "model = RandomForestClassifier(n_estimators=100, random_state=42)\n",
    "model.fit(X_train, y_train)\n",
    "\n",
    "y_pred = model.predict(X_val)\n",
    "print(\"Accuracy:\", accuracy_score(y_val, y_pred))\n",
    "print(classification_report(y_val, y_pred))\n"
   ]
  },
  {
   "cell_type": "code",
   "execution_count": null,
   "id": "49dd0ca9",
   "metadata": {},
   "outputs": [],
   "source": [
    "joblib.dump(model, 'model.pkl')\n",
    "print(\"Model saved as model.pkl\")\n"
   ]
  }
 ],
 "metadata": {
  "language_info": {
   "name": "python"
  }
 },
 "nbformat": 4,
 "nbformat_minor": 5
}
